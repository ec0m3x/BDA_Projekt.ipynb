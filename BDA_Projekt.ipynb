{
 "cells": [
  {
   "cell_type": "markdown",
   "source": [
    "BDA_Projekt\n",
    "Macht ein Tempolimit von 130km/h auf der Autobahn in Bezug auf Personenschäden Sinn?"
   ],
   "metadata": {
    "collapsed": false
   }
  },
  {
   "cell_type": "code",
   "execution_count": 82,
   "outputs": [],
   "source": [
    "import numpy as np\n",
    "import matplotlib.pyplot as plt"
   ],
   "metadata": {
    "collapsed": false
   }
  },
  {
   "cell_type": "code",
   "execution_count": 99,
   "outputs": [],
   "source": [
    "# CSV-Datei laden\n",
    "data = np.genfromtxt('data/46241-0003_F.csv', encoding='1250', delimiter=';', skip_header=5, usecols=(4,5,6,7,8,9,10,11), missing_values='-', filling_values=0)\n"
   ],
   "metadata": {
    "collapsed": false
   }
  },
  {
   "cell_type": "code",
   "execution_count": 100,
   "outputs": [],
   "source": [
    "# Anzahl der Unfälle <= 130 km/h\n",
    "unfaelle_130 = np.sum(data[:,0:6], axis=1)"
   ],
   "metadata": {
    "collapsed": false
   }
  },
  {
   "cell_type": "code",
   "execution_count": 101,
   "outputs": [],
   "source": [
    "# Anzahl der Unfälle > 130 km/h\n",
    "unfaelle_uber_130 = data[:,6]"
   ],
   "metadata": {
    "collapsed": false
   }
  },
  {
   "cell_type": "code",
   "execution_count": 102,
   "outputs": [],
   "source": [
    "# Anzahl der Personenschäden <= 130 km/h\n",
    "personenschaden_130 = np.sum(data[:,1:5], axis=1)\n"
   ],
   "metadata": {
    "collapsed": false
   }
  },
  {
   "cell_type": "code",
   "execution_count": 103,
   "outputs": [],
   "source": [
    "# Anzahl der Personenschäden > 130 km/h\n",
    "personenschaden_uber_130 = data[:,5]"
   ],
   "metadata": {
    "collapsed": false
   }
  },
  {
   "cell_type": "code",
   "execution_count": 104,
   "outputs": [],
   "source": [
    "# Anzahl der tödlichen Unfälle <= 130 km/h\n",
    "toedliche_unfaelle_130 = data[:,1]"
   ],
   "metadata": {
    "collapsed": false
   }
  },
  {
   "cell_type": "code",
   "execution_count": 105,
   "outputs": [],
   "source": [
    "# Anzahl der tödlichen Unfälle > 130 km/h\n",
    "toedliche_unfaelle_uber_130 = data[:,5]"
   ],
   "metadata": {
    "collapsed": false
   }
  },
  {
   "cell_type": "code",
   "execution_count": 106,
   "outputs": [],
   "source": [
    "print(\"Anzahl der Unfälle <= 130 km/h:\", np.sum(unfaelle_130))\n",
    "print(\"Anzahl der Unfälle > 130 km/h:\", np.sum(unfaelle_uber_130))\n",
    "print(\"Anzahl der Personenschäden <= 130 km/h:\", np.sum(personenschaden_130))\n",
    "print(\"Anzahl der Personenschäden > 130 km/h:\", np.sum(personenschaden_uber_130))\n",
    "print(\"Anzahl der tödlichen Unfälle <= 130 km/h:\", np.sum(toedliche_unfaelle_130))\n",
    "print(\"Anzahl der tödlichen Unfälle > 130 km/h:\", np.sum(toedliche_unfaelle_uber_130))"
   ],
   "metadata": {
    "collapsed": false
   }
  },
  {
   "cell_type": "code",
   "execution_count": 107,
   "outputs": [],
   "source": [
    "# Daten für das Diagramm\n",
    "labels = ['<= 130 km/h', '> 130 km/h']\n",
    "unfaelle = [np.sum(unfaelle_130), np.sum(unfaelle_uber_130)]\n",
    "\n",
    "# Diagramm erstellen\n",
    "plt.bar(labels, unfaelle)\n",
    "plt.title('Anzahl der Unfälle')\n",
    "plt.xlabel('Geschwindigkeit')\n",
    "plt.ylabel('Anzahl')\n",
    "plt.show()"
   ],
   "metadata": {
    "collapsed": false
   }
  },
  {
   "cell_type": "code",
   "execution_count": 108,
   "outputs": [],
   "source": [
    "# Daten für das Diagramm\n",
    "labels = ['<= 130 km/h', '> 130 km/h']\n",
    "personenschaden = [np.sum(personenschaden_130), np.sum(personenschaden_uber_130)]\n",
    "\n",
    "# Diagramm erstellen\n",
    "plt.bar(labels, personenschaden)\n",
    "plt.title('Anzahl der Personenschäden')\n",
    "plt.xlabel('Geschwindigkeit')\n",
    "plt.ylabel('Anzahl')\n",
    "plt.show()"
   ],
   "metadata": {
    "collapsed": false
   }
  },
  {
   "cell_type": "code",
   "execution_count": 109,
   "outputs": [],
   "source": [
    "# Daten für das Diagramm\n",
    "labels = ['<= 130 km/h', '> 130 km/h']\n",
    "toedliche_unfaelle = [np.sum(toedliche_unfaelle_130), np.sum(toedliche_unfaelle_uber_130)]\n",
    "\n",
    "# Diagramm erstellen\n",
    "plt.bar(labels, toedliche_unfaelle)\n",
    "plt.title('Anzahl der tödlichen Unfälle')\n",
    "plt.xlabel('Geschwindigkeit')\n",
    "plt.ylabel('Anzahl')\n",
    "plt.show()"
   ],
   "metadata": {
    "collapsed": false
   }
  },
  {
   "cell_type": "code",
   "execution_count": 110,
   "outputs": [],
   "source": [
    "# Diagramm 1: Anzahl der Unfälle\n",
    "labels_unfaelle = ['<= 130 km/h', '> 130 km/h']\n",
    "unfaelle = [np.sum(unfaelle_130), np.sum(unfaelle_uber_130)]\n",
    "plt.subplot(1, 3, 1)\n",
    "plt.bar(labels_unfaelle, unfaelle)\n",
    "plt.title('Anzahl der Unfälle')\n",
    "plt.xlabel('Geschwindigkeit')\n",
    "plt.ylabel('Anzahl')\n",
    "\n",
    "# Diagramm 2: Anzahl der Personenschäden\n",
    "labels_personenschaden = ['<= 130 km/h', '> 130 km/h']\n",
    "personenschaden = [np.sum(personenschaden_130), np.sum(personenschaden_uber_130)]\n",
    "plt.subplot(1, 3, 2)\n",
    "plt.bar(labels_personenschaden, personenschaden)\n",
    "plt.title('Anzahl der Personenschäden')\n",
    "plt.xlabel('Geschwindigkeit')\n",
    "plt.ylabel('Anzahl')\n",
    "\n",
    "# Diagramm 3: Anzahl der tödlichen Unfälle\n",
    "labels_toedliche_unfaelle = ['<= 130 km/h', '> 130 km/h']\n",
    "toedliche_unfaelle = [np.sum(toedliche_unfaelle_130), np.sum(toedliche_unfaelle_uber_130)]\n",
    "plt.subplot(1, 3, 3)\n",
    "plt.bar(labels_toedliche_unfaelle, toedliche_unfaelle)\n",
    "plt.title('Anzahl der tödlichen Unfälle')\n",
    "plt.xlabel('Geschwindigkeit')\n",
    "plt.ylabel('Anzahl')\n",
    "\n",
    "# Diagramme anzeigen\n",
    "plt.tight_layout()\n",
    "plt.show()"
   ],
   "metadata": {
    "collapsed": false
   }
  },
  {
   "cell_type": "markdown",
   "source": [
    "Die Ergebnisse zeigen, dass die Anzahl der Unfälle und Personenschäden bei Geschwindigkeiten <= 130 km/h deutlich höher ist als bei Geschwindigkeiten > 130 km/h. Dies deutet darauf hin, dass ein Tempolimit von 130 km/h auf der Autobahn sinnvoll sein könnte, um die Anzahl der Unfälle und Personenschäden zu reduzieren.\n",
    "\n",
    "Allerdings ist zu beachten, dass die Daten nur die Unfälle der letzten Jahre berücksichtigen und weitere Faktoren wie Verkehrsdichte, Wetterbedingungen und Fahrzeugzustand berücksichtigt werden müssen, um eine endgültige Aussage über die Sinnhaftigkeit eines Tempolimits zu treffen."
   ],
   "metadata": {
    "collapsed": false
   }
  }
 ],
 "metadata": {
  "kernelspec": {
   "display_name": "Python 3 (ipykernel)",
   "language": "python",
   "name": "python3"
  },
  "language_info": {
   "codemirror_mode": {
    "name": "ipython",
    "version": 3
   },
   "file_extension": ".py",
   "mimetype": "text/x-python",
   "name": "python",
   "nbconvert_exporter": "python",
   "pygments_lexer": "ipython3",
   "version": "3.10.9"
  }
 },
 "nbformat": 4,
 "nbformat_minor": 5
}
