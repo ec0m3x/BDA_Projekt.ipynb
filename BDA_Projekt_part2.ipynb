{
 "cells": [
  {
   "cell_type": "markdown",
   "source": [
    "# Datenanalyse Part II"
   ],
   "metadata": {
    "collapsed": false
   }
  },
  {
   "cell_type": "markdown",
   "source": [
    "### Es stehen zwei CSV Datensets zur Verfügung:\n",
    "\n",
    "#### CSV \"persons_killed_on_motorways_eu.csv\" enthält die Anzahl der getöteten Personen in Autobahnunfällen aller EU Länder\n",
    "#### CSV \"road_accidents_eu.csv\" enthält die Anzahl der Verkehrsunfälle aller EU Länder"
   ],
   "metadata": {
    "collapsed": false
   }
  },
  {
   "cell_type": "code",
   "execution_count": 1,
   "outputs": [],
   "source": [
    "import pickle\n",
    "import pandas as pd\n",
    "import seaborn as sns\n",
    "import scipy.stats as stats\n",
    "import statsmodels.formula.api as sm"
   ],
   "metadata": {
    "collapsed": false,
    "ExecuteTime": {
     "end_time": "2023-06-25T12:48:12.545461221Z",
     "start_time": "2023-06-25T12:48:12.472669421Z"
    }
   }
  },
  {
   "cell_type": "code",
   "execution_count": 2,
   "outputs": [],
   "source": [
    "# Personen, die auf Autobahnen getötet wurden\n",
    "persons_killed_data = pd.read_csv('data/persons_killed_on_motorways_eu.csv')\n",
    "\n",
    "# Verkehrsunfälle\n",
    "accidents_data = pd.read_csv('data/road_accidents_eu.csv')"
   ],
   "metadata": {
    "collapsed": false,
    "ExecuteTime": {
     "end_time": "2023-06-25T12:48:12.551995286Z",
     "start_time": "2023-06-25T12:48:12.546087068Z"
    }
   }
  },
  {
   "cell_type": "code",
   "execution_count": 3,
   "outputs": [
    {
     "name": "stdout",
     "output_type": "stream",
     "text": [
      "                    DATAFLOW        LAST UPDATE freq unit tra_infr geo  \\\n",
      "0  ESTAT:TRAN_SF_ROADRO(1.0)  20/06/23 11:00:00    A   NR     MWAY  AT   \n",
      "1  ESTAT:TRAN_SF_ROADRO(1.0)  20/06/23 11:00:00    A   NR     MWAY  AT   \n",
      "2  ESTAT:TRAN_SF_ROADRO(1.0)  20/06/23 11:00:00    A   NR     MWAY  AT   \n",
      "3  ESTAT:TRAN_SF_ROADRO(1.0)  20/06/23 11:00:00    A   NR     MWAY  AT   \n",
      "4  ESTAT:TRAN_SF_ROADRO(1.0)  20/06/23 11:00:00    A   NR     MWAY  AT   \n",
      "\n",
      "   TIME_PERIOD  OBS_VALUE OBS_FLAG  \n",
      "0         2012         50      NaN  \n",
      "1         2013         31      NaN  \n",
      "2         2014         36      NaN  \n",
      "3         2015         41      NaN  \n",
      "4         2016         34      NaN  \n",
      "<class 'pandas.core.frame.DataFrame'>\n",
      "RangeIndex: 254 entries, 0 to 253\n",
      "Data columns (total 9 columns):\n",
      " #   Column       Non-Null Count  Dtype \n",
      "---  ------       --------------  ----- \n",
      " 0   DATAFLOW     254 non-null    object\n",
      " 1   LAST UPDATE  254 non-null    object\n",
      " 2   freq         254 non-null    object\n",
      " 3   unit         254 non-null    object\n",
      " 4   tra_infr     254 non-null    object\n",
      " 5   geo          254 non-null    object\n",
      " 6   TIME_PERIOD  254 non-null    int64 \n",
      " 7   OBS_VALUE    254 non-null    int64 \n",
      " 8   OBS_FLAG     3 non-null      object\n",
      "dtypes: int64(2), object(7)\n",
      "memory usage: 18.0+ KB\n",
      "None\n",
      "                    DATAFLOW        LAST UPDATE freq unit geo  TIME_PERIOD  \\\n",
      "0  ESTAT:TRAN_SF_ROADNU(1.0)  20/06/23 11:00:00    A   NR  AT         2013   \n",
      "1  ESTAT:TRAN_SF_ROADNU(1.0)  20/06/23 11:00:00    A   NR  AT         2014   \n",
      "2  ESTAT:TRAN_SF_ROADNU(1.0)  20/06/23 11:00:00    A   NR  AT         2015   \n",
      "3  ESTAT:TRAN_SF_ROADNU(1.0)  20/06/23 11:00:00    A   NR  AT         2016   \n",
      "4  ESTAT:TRAN_SF_ROADNU(1.0)  20/06/23 11:00:00    A   NR  AT         2017   \n",
      "\n",
      "   OBS_VALUE  OBS_FLAG  \n",
      "0      38502       NaN  \n",
      "1      37957       NaN  \n",
      "2      37960       NaN  \n",
      "3      38466       NaN  \n",
      "4      37402       NaN  \n",
      "<class 'pandas.core.frame.DataFrame'>\n",
      "RangeIndex: 277 entries, 0 to 276\n",
      "Data columns (total 8 columns):\n",
      " #   Column       Non-Null Count  Dtype  \n",
      "---  ------       --------------  -----  \n",
      " 0   DATAFLOW     277 non-null    object \n",
      " 1   LAST UPDATE  277 non-null    object \n",
      " 2   freq         277 non-null    object \n",
      " 3   unit         277 non-null    object \n",
      " 4   geo          277 non-null    object \n",
      " 5   TIME_PERIOD  277 non-null    int64  \n",
      " 6   OBS_VALUE    277 non-null    int64  \n",
      " 7   OBS_FLAG     0 non-null      float64\n",
      "dtypes: float64(1), int64(2), object(5)\n",
      "memory usage: 17.4+ KB\n",
      "None\n"
     ]
    }
   ],
   "source": [
    "# Struktur untersuchen\n",
    "\n",
    "# Erste Zeilen der Daten anzeigen\n",
    "print(persons_killed_data.head())\n",
    "\n",
    "# Informationen über die Spalten und den Datentyp\n",
    "print(persons_killed_data.info())\n",
    "\n",
    "# Erste Zeilen der Daten anzeigen\n",
    "print(accidents_data.head())\n",
    "\n",
    "# Informationen über die Spalten und den Datentyp\n",
    "print(accidents_data.info())"
   ],
   "metadata": {
    "collapsed": false,
    "ExecuteTime": {
     "end_time": "2023-06-25T12:48:12.587814402Z",
     "start_time": "2023-06-25T12:48:12.555793740Z"
    }
   }
  },
  {
   "cell_type": "code",
   "execution_count": 4,
   "outputs": [
    {
     "name": "stdout",
     "output_type": "stream",
     "text": [
      "    geo  TIME_PERIOD  OBS_VALUE\n",
      "0    AT         2012         50\n",
      "1    AT         2013         31\n",
      "2    AT         2014         36\n",
      "3    AT         2015         41\n",
      "4    AT         2016         34\n",
      "..   ..          ...        ...\n",
      "249  UK         2014         81\n",
      "250  UK         2015         93\n",
      "251  UK         2016         91\n",
      "252  UK         2017         82\n",
      "253  UK         2018         99\n",
      "\n",
      "[254 rows x 3 columns]\n",
      "    geo  TIME_PERIOD  OBS_VALUE\n",
      "0    AT         2013      38502\n",
      "1    AT         2014      37957\n",
      "2    AT         2015      37960\n",
      "3    AT         2016      38466\n",
      "4    AT         2017      37402\n",
      "..   ..          ...        ...\n",
      "272  SK         2017       5330\n",
      "273  SK         2018       5335\n",
      "274  SK         2019       5105\n",
      "275  SK         2020       4302\n",
      "276  SK         2021          0\n",
      "\n",
      "[277 rows x 3 columns]\n"
     ]
    }
   ],
   "source": [
    "# Überflüssige Spalten entfernen\n",
    "\n",
    "persons_killed_data = persons_killed_data.drop(['DATAFLOW', 'LAST UPDATE', 'freq', 'unit', 'tra_infr', 'OBS_FLAG'], axis=1)\n",
    "accidents_data = accidents_data.drop(['DATAFLOW', 'LAST UPDATE', 'freq', 'unit', 'OBS_FLAG'], axis=1)\n",
    "\n",
    "print(persons_killed_data)\n",
    "print(accidents_data)\n",
    "\n"
   ],
   "metadata": {
    "collapsed": false,
    "ExecuteTime": {
     "end_time": "2023-06-25T12:48:12.589597938Z",
     "start_time": "2023-06-25T12:48:12.578297978Z"
    }
   }
  },
  {
   "cell_type": "code",
   "execution_count": 5,
   "outputs": [
    {
     "name": "stdout",
     "output_type": "stream",
     "text": [
      "  geo  TIME_PERIOD  OBS_VALUE_x  OBS_VALUE_y\n",
      "0  AT         2013           31        38502\n",
      "1  AT         2014           36        37957\n",
      "2  AT         2015           41        37960\n",
      "3  AT         2016           34        38466\n",
      "4  AT         2017           45        37402\n"
     ]
    }
   ],
   "source": [
    "# DataFrames zusammenführen\n",
    "merged_data = pd.merge(persons_killed_data, accidents_data, on=['geo', 'TIME_PERIOD'])\n",
    "\n",
    "# Ergebnis anzeigen\n",
    "print(merged_data.head())"
   ],
   "metadata": {
    "collapsed": false,
    "ExecuteTime": {
     "end_time": "2023-06-25T12:48:12.678441973Z",
     "start_time": "2023-06-25T12:48:12.588914332Z"
    }
   }
  },
  {
   "cell_type": "code",
   "execution_count": 6,
   "outputs": [
    {
     "name": "stdout",
     "output_type": "stream",
     "text": [
      "  geo  TIME_PERIOD  killed_persons  accidents\n",
      "0  AT         2013              31      38502\n",
      "1  AT         2014              36      37957\n",
      "2  AT         2015              41      37960\n",
      "3  AT         2016              34      38466\n",
      "4  AT         2017              45      37402\n"
     ]
    }
   ],
   "source": [
    "# Spalten umbenennen\n",
    "merged_data = merged_data.rename(columns={'OBS_VALUE_x': 'killed_persons', 'OBS_VALUE_y': 'accidents'})\n",
    "\n",
    "# Ergebnis anzeigen\n",
    "print(merged_data.head())\n"
   ],
   "metadata": {
    "collapsed": false,
    "ExecuteTime": {
     "end_time": "2023-06-25T12:48:12.679173001Z",
     "start_time": "2023-06-25T12:48:12.630068689Z"
    }
   }
  },
  {
   "cell_type": "code",
   "execution_count": 8,
   "outputs": [
    {
     "data": {
      "text/plain": "<Figure size 1000x600 with 1 Axes>",
      "image/png": "[encoded data removed]"
     },
     "metadata": {},
     "output_type": "display_data"
    }
   ],
   "source": [
    "import matplotlib.pyplot as plt\n",
    "\n",
    "# Balkendiagramm erstellen\n",
    "plt.figure(figsize=(10, 6))\n",
    "plt.bar(merged_data['geo'], merged_data['killed_persons'])\n",
    "\n",
    "# Achsentitel und Diagrammtitel hinzufügen\n",
    "plt.xlabel('Länder')\n",
    "plt.ylabel('Anzahl der getöteten Personen')\n",
    "plt.title('Anzahl der getöteten Personen auf Autobahnen nach Ländern')\n",
    "\n",
    "# Diagramm anzeigen\n",
    "plt.show()\n"
   ],
   "metadata": {
    "collapsed": false,
    "ExecuteTime": {
     "end_time": "2023-06-25T12:48:13.333796205Z",
     "start_time": "2023-06-25T12:48:12.905077006Z"
    }
   }
  },
  {
   "cell_type": "code",
   "execution_count": 16,
   "outputs": [
    {
     "data": {
      "text/plain": "<Figure size 1000x600 with 1 Axes>",
      "image/png": "[encoded data removed]"
     },
     "metadata": {},
     "output_type": "display_data"
    }
   ],
   "source": [
    "import matplotlib.pyplot as plt\n",
    "\n",
    "# Balkendiagramm erstellen\n",
    "plt.figure(figsize=(10, 6))\n",
    "plt.bar(merged_data['geo'], merged_data['accidents'])\n",
    "\n",
    "# Achsentitel und Diagrammtitel hinzufügen\n",
    "plt.xlabel('Länder')\n",
    "plt.ylabel('Anzahl der Unfälle')\n",
    "plt.title('Anzahl der Verkehrsunfälle nach Ländern')\n",
    "\n",
    "# Diagramm anzeigen\n",
    "plt.show()\n"
   ],
   "metadata": {
    "collapsed": false,
    "ExecuteTime": {
     "end_time": "2023-06-25T12:49:42.242727069Z",
     "start_time": "2023-06-25T12:49:41.643429046Z"
    }
   }
  },
  {
   "cell_type": "code",
   "execution_count": 11,
   "outputs": [
    {
     "name": "stdout",
     "output_type": "stream",
     "text": [
      "    geo  TIME_PERIOD  killed_persons  accidents\n",
      "27   CH         2013              23      17473\n",
      "28   CH         2014              12      17803\n",
      "29   CH         2015              21      17736\n",
      "30   CH         2016              19      17577\n",
      "31   CH         2017              25      17799\n",
      "32   CH         2018              19      18033\n",
      "33   CH         2019              24      17761\n",
      "34   CH         2020              18      16897\n",
      "35   CH         2021              15      17436\n",
      "53   DE         2013             428     291105\n",
      "54   DE         2014             375     302435\n",
      "55   DE         2015             414     305659\n",
      "56   DE         2016             393     308145\n",
      "57   DE         2017             409     302656\n",
      "58   DE         2018             424     308721\n",
      "59   DE         2019             356     300143\n",
      "60   DE         2020             317     264499\n",
      "61   DE         2021             318     258987\n",
      "80   ES         2013             290      89519\n",
      "81   ES         2014             289      91570\n",
      "82   ES         2015             277      97756\n",
      "83   ES         2016             327     102362\n",
      "84   ES         2017             308     102233\n",
      "85   ES         2018             323     102299\n",
      "86   ES         2019             340     104080\n",
      "87   ES         2020             224      72959\n",
      "88   ES         2021             316      89862\n",
      "98   FR         2013             238      56812\n",
      "99   FR         2014             220      58191\n",
      "100  FR         2015             297      56600\n",
      "101  FR         2016             267      57515\n",
      "102  FR         2017             281      58609\n",
      "103  FR         2018             268      55762\n",
      "104  FR         2019             260      56006\n",
      "105  FR         2020             196      45117\n",
      "106  FR         2021             243      53521\n",
      "155  NL         2013              57       9522\n",
      "156  NL         2014              57      13358\n",
      "157  NL         2015              79      18523\n",
      "158  NL         2016              77      18749\n",
      "159  NL         2017              82      18706\n",
      "160  NL         2018              76      19270\n",
      "161  NL         2019              75      19046\n",
      "162  NL         2020              55      17043\n",
      "163  NL         2021              47      18449\n",
      "164  PL         2013              40      35847\n",
      "165  PL         2014              56      34970\n",
      "166  PL         2015              61      32967\n",
      "167  PL         2016              50      33664\n",
      "168  PL         2017              70      32760\n",
      "169  PL         2018              52      31674\n",
      "170  PL         2019              70      30288\n",
      "171  PL         2020              55      23540\n",
      "172  PL         2021              74      22816\n"
     ]
    }
   ],
   "source": [
    "countries = ['FR', 'CH', 'ES', 'NL', 'PL', 'DE']\n",
    "selected_countries_data = merged_data[merged_data['geo'].isin(countries)]\n",
    "print(selected_countries_data)\n"
   ],
   "metadata": {
    "collapsed": false,
    "ExecuteTime": {
     "end_time": "2023-06-25T12:48:14.266888497Z",
     "start_time": "2023-06-25T12:48:14.264264633Z"
    }
   }
  },
  {
   "cell_type": "code",
   "execution_count": 12,
   "outputs": [],
   "source": [
    "grouped_data = selected_countries_data.groupby('geo').sum()\n"
   ],
   "metadata": {
    "collapsed": false,
    "ExecuteTime": {
     "end_time": "2023-06-25T12:48:14.272690696Z",
     "start_time": "2023-06-25T12:48:14.267433538Z"
    }
   }
  },
  {
   "cell_type": "code",
   "execution_count": 13,
   "outputs": [],
   "source": [
    "grouped_data['accident_rate'] = grouped_data['killed_persons'] / grouped_data['accidents']\n"
   ],
   "metadata": {
    "collapsed": false,
    "ExecuteTime": {
     "end_time": "2023-06-25T12:48:14.348779840Z",
     "start_time": "2023-06-25T12:48:14.274548333Z"
    }
   }
  },
  {
   "cell_type": "code",
   "execution_count": 14,
   "outputs": [
    {
     "name": "stdout",
     "output_type": "stream",
     "text": [
      "Unfallquote in Deutschland: 0.00129960073419494\n",
      "Unfallquote in den ausgewählten Ländern:\n",
      "geo\n",
      "FR    0.004557\n",
      "CH    0.001110\n",
      "ES    0.003160\n",
      "NL    0.003963\n",
      "PL    0.001896\n",
      "Name: accident_rate, dtype: float64\n",
      "Niedrigere Unfallquote als in Deutschland:\n",
      "geo\n",
      "CH    0.00111\n",
      "Name: accident_rate, dtype: float64\n"
     ]
    }
   ],
   "source": [
    "germany_accident_rate = grouped_data.loc['DE', 'accident_rate']\n",
    "\n",
    "comparison_data = grouped_data.loc[['FR', 'CH', 'ES', 'NL', 'PL'], 'accident_rate']\n",
    "comparison_result = comparison_data < germany_accident_rate\n",
    "\n",
    "print(\"Unfallquote in Deutschland:\", germany_accident_rate)\n",
    "print(\"Unfallquote in den ausgewählten Ländern:\")\n",
    "print(comparison_data)\n",
    "print(\"Niedrigere Unfallquote als in Deutschland:\")\n",
    "print(comparison_data[comparison_result])\n"
   ],
   "metadata": {
    "collapsed": false,
    "ExecuteTime": {
     "end_time": "2023-06-25T12:48:14.349475179Z",
     "start_time": "2023-06-25T12:48:14.315348315Z"
    }
   }
  },
  {
   "cell_type": "code",
   "execution_count": 15,
   "outputs": [
    {
     "name": "stdout",
     "output_type": "stream",
     "text": [
      "Anzahl der getöteten Personen in Deutschland: 3434\n",
      "Anzahl der getöteten Personen in den ausgewählten Ländern:\n",
      "geo\n",
      "FR    2270\n",
      "CH     176\n",
      "ES    2694\n",
      "NL     605\n",
      "PL     528\n",
      "Name: killed_persons, dtype: int64\n",
      "Niedrigere Anzahl der getöteten Personen als in Deutschland:\n",
      "geo\n",
      "FR    2270\n",
      "CH     176\n",
      "ES    2694\n",
      "NL     605\n",
      "PL     528\n",
      "Name: killed_persons, dtype: int64\n"
     ]
    }
   ],
   "source": [
    "germany_killed_persons = grouped_data.loc['DE', 'killed_persons']\n",
    "\n",
    "comparison_data = grouped_data.loc[['FR', 'CH', 'ES', 'NL', 'PL'], 'killed_persons']\n",
    "comparison_result = comparison_data < germany_killed_persons\n",
    "\n",
    "print(\"Anzahl der getöteten Personen in Deutschland:\", germany_killed_persons)\n",
    "print(\"Anzahl der getöteten Personen in den ausgewählten Ländern:\")\n",
    "print(comparison_data)\n",
    "print(\"Niedrigere Anzahl der getöteten Personen als in Deutschland:\")\n",
    "print(comparison_data[comparison_result])\n"
   ],
   "metadata": {
    "collapsed": false,
    "ExecuteTime": {
     "end_time": "2023-06-25T12:48:14.349882004Z",
     "start_time": "2023-06-25T12:48:14.315612734Z"
    }
   }
  },
  {
   "cell_type": "code",
   "execution_count": 15,
   "outputs": [],
   "source": [],
   "metadata": {
    "collapsed": false,
    "ExecuteTime": {
     "end_time": "2023-06-25T12:48:14.350083426Z",
     "start_time": "2023-06-25T12:48:14.315772321Z"
    }
   }
  }
 ],
 "metadata": {
  "kernelspec": {
   "display_name": "Python 3 (ipykernel)",
   "language": "python",
   "name": "python3"
  },
  "language_info": {
   "codemirror_mode": {
    "name": "ipython",
    "version": 3
   },
   "file_extension": ".py",
   "mimetype": "text/x-python",
   "name": "python",
   "nbconvert_exporter": "python",
   "pygments_lexer": "ipython3",
   "version": "3.10.9"
  }
 },
 "nbformat": 4,
 "nbformat_minor": 5
}
