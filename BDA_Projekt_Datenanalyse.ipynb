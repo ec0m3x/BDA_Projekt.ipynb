{
 "cells": [
  {
   "cell_type": "markdown",
   "id": "5d751ba1",
   "metadata": {},
   "source": [
    "# Forschungsfrage:\n",
    "## Macht ein Tempolimit von 130km/h auf den deutschen Autobahnen Sinn in Bezug auf die Personenschäden verglichen mit anderen europäischen Ländern?"
   ]
  },
  {
   "cell_type": "markdown",
   "id": "c658f281",
   "metadata": {},
   "source": [
    "### Gruppenmitglieder:\n",
    "- Lisa-Marie Engländer #209301\n",
    "- Sebastian Koch # 213806\n",
    "- Eric Oberhardt # 214442\n",
    "- Daniel-Maxim Knyschow # 208777\n",
    "- Tubba Ahmad #212442\n",
    "- Donjeta Seljaci #214242\n",
    "\n"
   ]
  },
  {
   "cell_type": "markdown",
   "id": "69839e5b",
   "metadata": {},
   "source": [
    "# Datenanalyse"
   ]
  },
  {
   "cell_type": "markdown",
   "id": "4616ec6e",
   "metadata": {},
   "source": [
    "### Es stehen zwei CSV Datensets zur Verfügung:\n",
    "\n",
    "#### CSV \"persons_killed_on_motorways_eu.csv\" enthält die Anzahl der getöteten Personen auf Autobahnen aller EU Länder\n",
    "#### CSV \"road_accidents_eu.csv\" enthält die Anzahl der Verkehrsunfälle aller EU Länder\n",
    "\n",
    "##### Quelle \"https://ec.europa.eu/eurostat\", abgerufen am 25.06.2023"
   ]
  },
  {
   "cell_type": "code",
   "execution_count": 57,
   "id": "26f6300e",
   "metadata": {},
   "outputs": [],
   "source": [
    "import pandas as pd\n",
    "import matplotlib.pyplot as plt"
   ]
  },
  {
   "cell_type": "code",
   "execution_count": 58,
   "id": "d5f1b16c",
   "metadata": {},
   "outputs": [],
   "source": [
    "# Personen, die in Autobahnunfällen getötet wurden\n",
    "persons_killed_data = pd.read_csv('data/persons_killed_on_motorways_eu.csv')\n",
    "\n",
    "# Verkehrsunfälle\n",
    "accidents_data = pd.read_csv('data/road_accidents_eu.csv')"
   ]
  },
  {
   "cell_type": "code",
   "execution_count": 59,
   "id": "43fb85d1",
   "metadata": {},
   "outputs": [],
   "source": [
    "# Struktur untersuchen\n",
    "\n",
    "# Erste Zeilen der Daten anzeigen\n",
    "print(persons_killed_data.head())\n",
    "\n",
    "# Informationen über die Spalten und den Datentyp\n",
    "print(persons_killed_data.info())\n",
    "\n",
    "# Erste Zeilen der Daten anzeigen\n",
    "print(accidents_data.head())\n",
    "\n",
    "# Informationen über die Spalten und den Datentyp\n",
    "print(accidents_data.info())"
   ]
  },
  {
   "cell_type": "code",
   "execution_count": 60,
   "id": "8fe0d4e3",
   "metadata": {},
   "outputs": [],
   "source": [
    "# Überflüssige Spalten entfernen\n",
    "\n",
    "persons_killed_data = persons_killed_data.drop(['DATAFLOW', 'LAST UPDATE', 'freq', 'unit', 'tra_infr', 'OBS_FLAG'], axis=1)\n",
    "accidents_data = accidents_data.drop(['DATAFLOW', 'LAST UPDATE', 'freq', 'unit', 'OBS_FLAG'], axis=1)\n",
    "\n",
    "print(persons_killed_data)\n",
    "print(accidents_data)"
   ]
  },
  {
   "cell_type": "code",
   "execution_count": 61,
   "id": "33a5ec32",
   "metadata": {},
   "outputs": [],
   "source": [
    "# DataFrames zusammenführen\n",
    "merged_data = pd.merge(persons_killed_data, accidents_data, on=['geo', 'TIME_PERIOD'])\n",
    "\n",
    "# Ergebnis anzeigen\n",
    "print(merged_data.head())"
   ]
  },
  {
   "cell_type": "code",
   "execution_count": 62,
   "id": "c2c69205",
   "metadata": {},
   "outputs": [],
   "source": [
    "# Spalten umbenennen\n",
    "merged_data = merged_data.rename(columns={'OBS_VALUE_x': 'killed_persons', 'OBS_VALUE_y': 'accidents'})\n",
    "\n",
    "# Ergebnis anzeigen\n",
    "print(merged_data.head())\n"
   ]
  },
  {
   "cell_type": "markdown",
   "id": "264227fb",
   "metadata": {},
   "source": [
    "### Anzahl der getöteten Personen auf Autobahnen nach Ländern"
   ]
  },
  {
   "cell_type": "code",
   "execution_count": 63,
   "id": "0a5f23d8",
   "metadata": {},
   "outputs": [],
   "source": [
    "# Balkendiagramm erstellen\n",
    "plt.figure(figsize=(10, 6))\n",
    "plt.bar(merged_data['geo'], merged_data['killed_persons'])\n",
    "\n",
    "# Achsentitel und Diagrammtitel hinzufügen\n",
    "plt.xlabel('Länder')\n",
    "plt.ylabel('Anzahl der getöteten Personen')\n",
    "plt.title('Anzahl der getöteten Personen auf Autobahnen nach Ländern')\n",
    "\n",
    "# Diagramm anzeigen\n",
    "plt.show()\n"
   ]
  },
  {
   "cell_type": "markdown",
   "id": "996bb7e7",
   "metadata": {},
   "source": [
    "### Anzahl der Verkehrsunfälle nach Ländern"
   ]
  },
  {
   "cell_type": "code",
   "execution_count": 64,
   "id": "4c8f67f2",
   "metadata": {},
   "outputs": [],
   "source": [
    "# Balkendiagramm erstellen\n",
    "plt.figure(figsize=(10, 6))\n",
    "plt.bar(merged_data['geo'], merged_data['accidents'])\n",
    "\n",
    "# Achsentitel und Diagrammtitel hinzufügen\n",
    "plt.xlabel('Länder')\n",
    "plt.ylabel('Anzahl der Unfälle')\n",
    "plt.title('Anzahl der Verkehrsunfälle nach Ländern')\n",
    "\n",
    "# Diagramm anzeigen\n",
    "plt.show()\n"
   ]
  },
  {
   "cell_type": "markdown",
   "id": "2c4b6fb0",
   "metadata": {},
   "source": [
    "### Unfallquote nach Ländern"
   ]
  },
  {
   "cell_type": "code",
   "execution_count": 65,
   "id": "53694ebe",
   "metadata": {},
   "outputs": [],
   "source": [
    "\n",
    "# Unfallquote berechnen (Unfälle pro getötete Person)\n",
    "merged_data['accident_rate'] = merged_data['accidents'] / merged_data['killed_persons']\n",
    "\n",
    "# Balkendiagramm erstellen\n",
    "plt.figure(figsize=(10, 6))\n",
    "plt.bar(merged_data['geo'], merged_data['accident_rate'])\n",
    "\n",
    "# Achsentitel und Diagrammtitel hinzufügen\n",
    "plt.xlabel('Länder')\n",
    "plt.ylabel('Unfallquote')\n",
    "plt.title('Unfallquote nach Ländern (Unfälle pro getötete Person)')\n",
    "\n",
    "# Diagramm anzeigen\n",
    "plt.show()\n"
   ]
  },
  {
   "cell_type": "markdown",
   "id": "d31d946b",
   "metadata": {},
   "source": [
    "## Schlussfolgerung\n",
    "\n",
    "Eine Begrenzung der Geschwindigkeit auf deutschen Autobahnen würde in Bezug auf getötete Personen keinen Unterschied ergeben. Diese Schlussfolgerung resultiert aus der ermittelten Quote, welche die Anzahl der Verkehrsunfälle mit der Anzahl getöteter Menschen im europäischen Vergleich in Relation setzt. Aus dieser Quote lässt sich eindeutig ablesen, dass eine Begrenzung der Geschwindigkeit **keine** unmittelbare Auswirkung auf die Todesfälle hat. Beispielhaft kann man hier die Länder Deutschland und Dänemark aufführen: Trotz Geschwindigkeitsbegrenzung sterben signifikant mehr Personen auf dänischen- als auf deutschen Autobahnen.\n"
   ]
  },
  {
   "cell_type": "code",
   "execution_count": 65,
   "outputs": [],
   "source": [],
   "metadata": {
    "collapsed": false
   }
  },
  {
   "cell_type": "code",
   "execution_count": null,
   "outputs": [],
   "source": [],
   "metadata": {
    "collapsed": false
   }
  }
 ],
 "metadata": {
  "kernelspec": {
   "display_name": "Python 3 (ipykernel)",
   "language": "python",
   "name": "python3"
  },
  "language_info": {
   "codemirror_mode": {
    "name": "ipython",
    "version": 3
   },
   "file_extension": ".py",
   "mimetype": "text/x-python",
   "name": "python",
   "nbconvert_exporter": "python",
   "pygments_lexer": "ipython3",
   "version": "3.10.11"
  }
 },
 "nbformat": 4,
 "nbformat_minor": 5
}
