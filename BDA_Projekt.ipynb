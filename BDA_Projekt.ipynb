{
 "cells": [
  {
   "cell_type": "markdown",
   "id": "d783f8da",
   "metadata": {},
   "source": [
    "BDA_Projekt\n",
    "Macht ein Tempolimit von 130km/h auf der Autobahn in Bezug auf Personenschäden Sinn?"
   ]
  },
  {
   "cell_type": "code",
   "execution_count": 5,
   "id": "3292ed06",
   "metadata": {
    "ExecuteTime": {
     "end_time": "2023-06-25T07:29:06.474986240Z",
     "start_time": "2023-06-25T07:29:06.400614879Z"
    }
   },
   "outputs": [],
   "source": [
    "import numpy as np\n",
    "import matplotlib.pyplot as plt"
   ]
  },
  {
   "cell_type": "code",
   "execution_count": 6,
   "id": "733cbdf9",
   "metadata": {
    "ExecuteTime": {
     "end_time": "2023-06-25T07:29:06.475591137Z",
     "start_time": "2023-06-25T07:29:06.442305511Z"
    }
   },
   "outputs": [
    {
     "name": "stderr",
     "output_type": "stream",
     "text": [
      "/tmp/ipykernel_16686/114515375.py:2: UserWarning: genfromtxt: Empty input file: \"data/file.csv\"\n",
      "  data = np.genfromtxt('data/file.csv', encoding='1250', delimiter=';', skip_header=5, usecols=(4,5,6,7,8,9,10,11), missing_values='-', filling_values=0)\n"
     ]
    }
   ],
   "source": [
    "# CSV-Datei laden\n",
    "data = np.genfromtxt('data/file.csv', encoding='1250', delimiter=';', skip_header=5, usecols=(4,5,6,7,8,9,10,11), missing_values='-', filling_values=0)\n"
   ]
  },
  {
   "cell_type": "code",
   "execution_count": 7,
   "id": "a4bf2e71",
   "metadata": {
    "ExecuteTime": {
     "end_time": "2023-06-25T07:29:06.476000897Z",
     "start_time": "2023-06-25T07:29:06.442606039Z"
    }
   },
   "outputs": [
    {
     "ename": "IndexError",
     "evalue": "too many indices for array: array is 1-dimensional, but 2 were indexed",
     "output_type": "error",
     "traceback": [
      "\u001B[0;31m---------------------------------------------------------------------------\u001B[0m",
      "\u001B[0;31mIndexError\u001B[0m                                Traceback (most recent call last)",
      "Cell \u001B[0;32mIn[7], line 2\u001B[0m\n\u001B[1;32m      1\u001B[0m \u001B[38;5;66;03m# Anzahl der Unfälle <= 130 km/h\u001B[39;00m\n\u001B[0;32m----> 2\u001B[0m unfaelle_130 \u001B[38;5;241m=\u001B[39m np\u001B[38;5;241m.\u001B[39msum(\u001B[43mdata\u001B[49m\u001B[43m[\u001B[49m\u001B[43m:\u001B[49m\u001B[43m,\u001B[49m\u001B[38;5;241;43m0\u001B[39;49m\u001B[43m:\u001B[49m\u001B[38;5;241;43m6\u001B[39;49m\u001B[43m]\u001B[49m, axis\u001B[38;5;241m=\u001B[39m\u001B[38;5;241m1\u001B[39m)\n",
      "\u001B[0;31mIndexError\u001B[0m: too many indices for array: array is 1-dimensional, but 2 were indexed"
     ]
    }
   ],
   "source": [
    "# Anzahl der Unfälle <= 130 km/h\n",
    "unfaelle_130 = np.sum(data[:,0:6], axis=1)"
   ]
  },
  {
   "cell_type": "code",
   "execution_count": 8,
   "id": "18196a9f",
   "metadata": {
    "ExecuteTime": {
     "end_time": "2023-06-25T07:29:20.774581662Z",
     "start_time": "2023-06-25T07:29:20.767327364Z"
    }
   },
   "outputs": [
    {
     "ename": "IndexError",
     "evalue": "too many indices for array: array is 1-dimensional, but 2 were indexed",
     "output_type": "error",
     "traceback": [
      "\u001B[0;31m---------------------------------------------------------------------------\u001B[0m",
      "\u001B[0;31mIndexError\u001B[0m                                Traceback (most recent call last)",
      "Cell \u001B[0;32mIn[8], line 2\u001B[0m\n\u001B[1;32m      1\u001B[0m \u001B[38;5;66;03m# Anzahl der Unfälle > 130 km/h\u001B[39;00m\n\u001B[0;32m----> 2\u001B[0m unfaelle_uber_130 \u001B[38;5;241m=\u001B[39m \u001B[43mdata\u001B[49m\u001B[43m[\u001B[49m\u001B[43m:\u001B[49m\u001B[43m,\u001B[49m\u001B[38;5;241;43m6\u001B[39;49m\u001B[43m]\u001B[49m\n",
      "\u001B[0;31mIndexError\u001B[0m: too many indices for array: array is 1-dimensional, but 2 were indexed"
     ]
    }
   ],
   "source": [
    "# Anzahl der Unfälle > 130 km/h\n",
    "unfaelle_uber_130 = data[:,6]"
   ]
  },
  {
   "cell_type": "code",
   "execution_count": 9,
   "id": "9960b003",
   "metadata": {
    "ExecuteTime": {
     "end_time": "2023-06-25T07:29:21.776093779Z",
     "start_time": "2023-06-25T07:29:21.763078325Z"
    }
   },
   "outputs": [
    {
     "ename": "IndexError",
     "evalue": "too many indices for array: array is 1-dimensional, but 2 were indexed",
     "output_type": "error",
     "traceback": [
      "\u001B[0;31m---------------------------------------------------------------------------\u001B[0m",
      "\u001B[0;31mIndexError\u001B[0m                                Traceback (most recent call last)",
      "Cell \u001B[0;32mIn[9], line 2\u001B[0m\n\u001B[1;32m      1\u001B[0m \u001B[38;5;66;03m# Anzahl der Personenschäden <= 130 km/h\u001B[39;00m\n\u001B[0;32m----> 2\u001B[0m personenschaden_130 \u001B[38;5;241m=\u001B[39m np\u001B[38;5;241m.\u001B[39msum(\u001B[43mdata\u001B[49m\u001B[43m[\u001B[49m\u001B[43m:\u001B[49m\u001B[43m,\u001B[49m\u001B[38;5;241;43m1\u001B[39;49m\u001B[43m:\u001B[49m\u001B[38;5;241;43m5\u001B[39;49m\u001B[43m]\u001B[49m, axis\u001B[38;5;241m=\u001B[39m\u001B[38;5;241m1\u001B[39m)\n",
      "\u001B[0;31mIndexError\u001B[0m: too many indices for array: array is 1-dimensional, but 2 were indexed"
     ]
    }
   ],
   "source": [
    "# Anzahl der Personenschäden <= 130 km/h\n",
    "personenschaden_130 = np.sum(data[:,1:5], axis=1)\n"
   ]
  },
  {
   "cell_type": "code",
   "execution_count": 10,
   "id": "83296cff",
   "metadata": {
    "ExecuteTime": {
     "end_time": "2023-06-25T07:29:22.652769784Z",
     "start_time": "2023-06-25T07:29:22.643283491Z"
    }
   },
   "outputs": [
    {
     "ename": "IndexError",
     "evalue": "too many indices for array: array is 1-dimensional, but 2 were indexed",
     "output_type": "error",
     "traceback": [
      "\u001B[0;31m---------------------------------------------------------------------------\u001B[0m",
      "\u001B[0;31mIndexError\u001B[0m                                Traceback (most recent call last)",
      "Cell \u001B[0;32mIn[10], line 2\u001B[0m\n\u001B[1;32m      1\u001B[0m \u001B[38;5;66;03m# Anzahl der Personenschäden > 130 km/h\u001B[39;00m\n\u001B[0;32m----> 2\u001B[0m personenschaden_uber_130 \u001B[38;5;241m=\u001B[39m \u001B[43mdata\u001B[49m\u001B[43m[\u001B[49m\u001B[43m:\u001B[49m\u001B[43m,\u001B[49m\u001B[38;5;241;43m5\u001B[39;49m\u001B[43m]\u001B[49m\n",
      "\u001B[0;31mIndexError\u001B[0m: too many indices for array: array is 1-dimensional, but 2 were indexed"
     ]
    }
   ],
   "source": [
    "# Anzahl der Personenschäden > 130 km/h\n",
    "personenschaden_uber_130 = data[:,5]"
   ]
  },
  {
   "cell_type": "code",
   "execution_count": 11,
   "id": "d8b4c9e8",
   "metadata": {
    "ExecuteTime": {
     "end_time": "2023-06-25T07:29:23.363895915Z",
     "start_time": "2023-06-25T07:29:23.351784140Z"
    }
   },
   "outputs": [
    {
     "ename": "IndexError",
     "evalue": "too many indices for array: array is 1-dimensional, but 2 were indexed",
     "output_type": "error",
     "traceback": [
      "\u001B[0;31m---------------------------------------------------------------------------\u001B[0m",
      "\u001B[0;31mIndexError\u001B[0m                                Traceback (most recent call last)",
      "Cell \u001B[0;32mIn[11], line 2\u001B[0m\n\u001B[1;32m      1\u001B[0m \u001B[38;5;66;03m# Anzahl der tödlichen Unfälle <= 130 km/h\u001B[39;00m\n\u001B[0;32m----> 2\u001B[0m toedliche_unfaelle_130 \u001B[38;5;241m=\u001B[39m \u001B[43mdata\u001B[49m\u001B[43m[\u001B[49m\u001B[43m:\u001B[49m\u001B[43m,\u001B[49m\u001B[38;5;241;43m1\u001B[39;49m\u001B[43m]\u001B[49m\n",
      "\u001B[0;31mIndexError\u001B[0m: too many indices for array: array is 1-dimensional, but 2 were indexed"
     ]
    }
   ],
   "source": [
    "# Anzahl der tödlichen Unfälle <= 130 km/h\n",
    "toedliche_unfaelle_130 = data[:,1]"
   ]
  },
  {
   "cell_type": "code",
   "execution_count": 12,
   "id": "4faa8212",
   "metadata": {
    "ExecuteTime": {
     "end_time": "2023-06-25T07:29:23.730631527Z",
     "start_time": "2023-06-25T07:29:23.715999102Z"
    }
   },
   "outputs": [
    {
     "ename": "IndexError",
     "evalue": "too many indices for array: array is 1-dimensional, but 2 were indexed",
     "output_type": "error",
     "traceback": [
      "\u001B[0;31m---------------------------------------------------------------------------\u001B[0m",
      "\u001B[0;31mIndexError\u001B[0m                                Traceback (most recent call last)",
      "Cell \u001B[0;32mIn[12], line 2\u001B[0m\n\u001B[1;32m      1\u001B[0m \u001B[38;5;66;03m# Anzahl der tödlichen Unfälle > 130 km/h\u001B[39;00m\n\u001B[0;32m----> 2\u001B[0m toedliche_unfaelle_uber_130 \u001B[38;5;241m=\u001B[39m \u001B[43mdata\u001B[49m\u001B[43m[\u001B[49m\u001B[43m:\u001B[49m\u001B[43m,\u001B[49m\u001B[38;5;241;43m5\u001B[39;49m\u001B[43m]\u001B[49m\n",
      "\u001B[0;31mIndexError\u001B[0m: too many indices for array: array is 1-dimensional, but 2 were indexed"
     ]
    }
   ],
   "source": [
    "# Anzahl der tödlichen Unfälle > 130 km/h\n",
    "toedliche_unfaelle_uber_130 = data[:,5]"
   ]
  },
  {
   "cell_type": "code",
   "execution_count": 13,
   "id": "751f580d",
   "metadata": {
    "scrolled": false,
    "ExecuteTime": {
     "end_time": "2023-06-25T07:29:24.129045852Z",
     "start_time": "2023-06-25T07:29:24.078038291Z"
    }
   },
   "outputs": [
    {
     "ename": "NameError",
     "evalue": "name 'unfaelle_130' is not defined",
     "output_type": "error",
     "traceback": [
      "\u001B[0;31m---------------------------------------------------------------------------\u001B[0m",
      "\u001B[0;31mNameError\u001B[0m                                 Traceback (most recent call last)",
      "Cell \u001B[0;32mIn[13], line 1\u001B[0m\n\u001B[0;32m----> 1\u001B[0m \u001B[38;5;28mprint\u001B[39m(\u001B[38;5;124m\"\u001B[39m\u001B[38;5;124mAnzahl der Unfälle <= 130 km/h:\u001B[39m\u001B[38;5;124m\"\u001B[39m, np\u001B[38;5;241m.\u001B[39msum(\u001B[43munfaelle_130\u001B[49m))\n\u001B[1;32m      2\u001B[0m \u001B[38;5;28mprint\u001B[39m(\u001B[38;5;124m\"\u001B[39m\u001B[38;5;124mAnzahl der Unfälle > 130 km/h:\u001B[39m\u001B[38;5;124m\"\u001B[39m, np\u001B[38;5;241m.\u001B[39msum(unfaelle_uber_130))\n\u001B[1;32m      3\u001B[0m \u001B[38;5;28mprint\u001B[39m(\u001B[38;5;124m\"\u001B[39m\u001B[38;5;124mAnzahl der Personenschäden <= 130 km/h:\u001B[39m\u001B[38;5;124m\"\u001B[39m, np\u001B[38;5;241m.\u001B[39msum(personenschaden_130))\n",
      "\u001B[0;31mNameError\u001B[0m: name 'unfaelle_130' is not defined"
     ]
    }
   ],
   "source": [
    "print(\"Anzahl der Unfälle <= 130 km/h:\", np.sum(unfaelle_130))\n",
    "print(\"Anzahl der Unfälle > 130 km/h:\", np.sum(unfaelle_uber_130))\n",
    "print(\"Anzahl der Personenschäden <= 130 km/h:\", np.sum(personenschaden_130))\n",
    "print(\"Anzahl der Personenschäden > 130 km/h:\", np.sum(personenschaden_uber_130))\n",
    "print(\"Anzahl der tödlichen Unfälle <= 130 km/h:\", np.sum(toedliche_unfaelle_130))\n",
    "print(\"Anzahl der tödlichen Unfälle > 130 km/h:\", np.sum(toedliche_unfaelle_uber_130))"
   ]
  },
  {
   "cell_type": "code",
   "execution_count": 14,
   "id": "caf39e7a",
   "metadata": {
    "ExecuteTime": {
     "end_time": "2023-06-25T07:29:24.854147550Z",
     "start_time": "2023-06-25T07:29:24.815876567Z"
    }
   },
   "outputs": [
    {
     "ename": "NameError",
     "evalue": "name 'unfaelle_130' is not defined",
     "output_type": "error",
     "traceback": [
      "\u001B[0;31m---------------------------------------------------------------------------\u001B[0m",
      "\u001B[0;31mNameError\u001B[0m                                 Traceback (most recent call last)",
      "Cell \u001B[0;32mIn[14], line 3\u001B[0m\n\u001B[1;32m      1\u001B[0m \u001B[38;5;66;03m# Daten für das Diagramm\u001B[39;00m\n\u001B[1;32m      2\u001B[0m labels \u001B[38;5;241m=\u001B[39m [\u001B[38;5;124m'\u001B[39m\u001B[38;5;124m<= 130 km/h\u001B[39m\u001B[38;5;124m'\u001B[39m, \u001B[38;5;124m'\u001B[39m\u001B[38;5;124m> 130 km/h\u001B[39m\u001B[38;5;124m'\u001B[39m]\n\u001B[0;32m----> 3\u001B[0m unfaelle \u001B[38;5;241m=\u001B[39m [np\u001B[38;5;241m.\u001B[39msum(\u001B[43munfaelle_130\u001B[49m), np\u001B[38;5;241m.\u001B[39msum(unfaelle_uber_130)]\n\u001B[1;32m      5\u001B[0m \u001B[38;5;66;03m# Diagramm erstellen\u001B[39;00m\n\u001B[1;32m      6\u001B[0m plt\u001B[38;5;241m.\u001B[39mbar(labels, unfaelle)\n",
      "\u001B[0;31mNameError\u001B[0m: name 'unfaelle_130' is not defined"
     ]
    }
   ],
   "source": [
    "# Daten für das Diagramm\n",
    "labels = ['<= 130 km/h', '> 130 km/h']\n",
    "unfaelle = [np.sum(unfaelle_130), np.sum(unfaelle_uber_130)]\n",
    "\n",
    "# Diagramm erstellen\n",
    "plt.bar(labels, unfaelle)\n",
    "plt.title('Anzahl der Unfälle')\n",
    "plt.xlabel('Geschwindigkeit')\n",
    "plt.ylabel('Anzahl')\n",
    "plt.show()"
   ]
  },
  {
   "cell_type": "code",
   "execution_count": 15,
   "id": "16c0e9be",
   "metadata": {
    "ExecuteTime": {
     "end_time": "2023-06-25T07:29:25.241949808Z",
     "start_time": "2023-06-25T07:29:25.224732688Z"
    }
   },
   "outputs": [
    {
     "ename": "NameError",
     "evalue": "name 'personenschaden_130' is not defined",
     "output_type": "error",
     "traceback": [
      "\u001B[0;31m---------------------------------------------------------------------------\u001B[0m",
      "\u001B[0;31mNameError\u001B[0m                                 Traceback (most recent call last)",
      "Cell \u001B[0;32mIn[15], line 3\u001B[0m\n\u001B[1;32m      1\u001B[0m \u001B[38;5;66;03m# Daten für das Diagramm\u001B[39;00m\n\u001B[1;32m      2\u001B[0m labels \u001B[38;5;241m=\u001B[39m [\u001B[38;5;124m'\u001B[39m\u001B[38;5;124m<= 130 km/h\u001B[39m\u001B[38;5;124m'\u001B[39m, \u001B[38;5;124m'\u001B[39m\u001B[38;5;124m> 130 km/h\u001B[39m\u001B[38;5;124m'\u001B[39m]\n\u001B[0;32m----> 3\u001B[0m personenschaden \u001B[38;5;241m=\u001B[39m [np\u001B[38;5;241m.\u001B[39msum(\u001B[43mpersonenschaden_130\u001B[49m), np\u001B[38;5;241m.\u001B[39msum(personenschaden_uber_130)]\n\u001B[1;32m      5\u001B[0m \u001B[38;5;66;03m# Diagramm erstellen\u001B[39;00m\n\u001B[1;32m      6\u001B[0m plt\u001B[38;5;241m.\u001B[39mbar(labels, personenschaden)\n",
      "\u001B[0;31mNameError\u001B[0m: name 'personenschaden_130' is not defined"
     ]
    }
   ],
   "source": [
    "# Daten für das Diagramm\n",
    "labels = ['<= 130 km/h', '> 130 km/h']\n",
    "personenschaden = [np.sum(personenschaden_130), np.sum(personenschaden_uber_130)]\n",
    "\n",
    "# Diagramm erstellen\n",
    "plt.bar(labels, personenschaden)\n",
    "plt.title('Anzahl der Personenschäden')\n",
    "plt.xlabel('Geschwindigkeit')\n",
    "plt.ylabel('Anzahl')\n",
    "plt.show()"
   ]
  },
  {
   "cell_type": "code",
   "execution_count": 16,
   "id": "cd6051f6",
   "metadata": {
    "ExecuteTime": {
     "end_time": "2023-06-25T07:29:25.654569408Z",
     "start_time": "2023-06-25T07:29:25.649884370Z"
    }
   },
   "outputs": [
    {
     "ename": "NameError",
     "evalue": "name 'toedliche_unfaelle_130' is not defined",
     "output_type": "error",
     "traceback": [
      "\u001B[0;31m---------------------------------------------------------------------------\u001B[0m",
      "\u001B[0;31mNameError\u001B[0m                                 Traceback (most recent call last)",
      "Cell \u001B[0;32mIn[16], line 3\u001B[0m\n\u001B[1;32m      1\u001B[0m \u001B[38;5;66;03m# Daten für das Diagramm\u001B[39;00m\n\u001B[1;32m      2\u001B[0m labels \u001B[38;5;241m=\u001B[39m [\u001B[38;5;124m'\u001B[39m\u001B[38;5;124m<= 130 km/h\u001B[39m\u001B[38;5;124m'\u001B[39m, \u001B[38;5;124m'\u001B[39m\u001B[38;5;124m> 130 km/h\u001B[39m\u001B[38;5;124m'\u001B[39m]\n\u001B[0;32m----> 3\u001B[0m toedliche_unfaelle \u001B[38;5;241m=\u001B[39m [np\u001B[38;5;241m.\u001B[39msum(\u001B[43mtoedliche_unfaelle_130\u001B[49m), np\u001B[38;5;241m.\u001B[39msum(toedliche_unfaelle_uber_130)]\n\u001B[1;32m      5\u001B[0m \u001B[38;5;66;03m# Diagramm erstellen\u001B[39;00m\n\u001B[1;32m      6\u001B[0m plt\u001B[38;5;241m.\u001B[39mbar(labels, toedliche_unfaelle)\n",
      "\u001B[0;31mNameError\u001B[0m: name 'toedliche_unfaelle_130' is not defined"
     ]
    }
   ],
   "source": [
    "# Daten für das Diagramm\n",
    "labels = ['<= 130 km/h', '> 130 km/h']\n",
    "toedliche_unfaelle = [np.sum(toedliche_unfaelle_130), np.sum(toedliche_unfaelle_uber_130)]\n",
    "\n",
    "# Diagramm erstellen\n",
    "plt.bar(labels, toedliche_unfaelle)\n",
    "plt.title('Anzahl der tödlichen Unfälle')\n",
    "plt.xlabel('Geschwindigkeit')\n",
    "plt.ylabel('Anzahl')\n",
    "plt.show()"
   ]
  },
  {
   "cell_type": "code",
   "execution_count": 17,
   "id": "d4831736",
   "metadata": {
    "ExecuteTime": {
     "end_time": "2023-06-25T07:29:26.022566080Z",
     "start_time": "2023-06-25T07:29:25.985107563Z"
    }
   },
   "outputs": [
    {
     "ename": "NameError",
     "evalue": "name 'unfaelle_130' is not defined",
     "output_type": "error",
     "traceback": [
      "\u001B[0;31m---------------------------------------------------------------------------\u001B[0m",
      "\u001B[0;31mNameError\u001B[0m                                 Traceback (most recent call last)",
      "Cell \u001B[0;32mIn[17], line 3\u001B[0m\n\u001B[1;32m      1\u001B[0m \u001B[38;5;66;03m# Diagramm 1: Anzahl der Unfälle\u001B[39;00m\n\u001B[1;32m      2\u001B[0m labels_unfaelle \u001B[38;5;241m=\u001B[39m [\u001B[38;5;124m'\u001B[39m\u001B[38;5;124m<= 130 km/h\u001B[39m\u001B[38;5;124m'\u001B[39m, \u001B[38;5;124m'\u001B[39m\u001B[38;5;124m> 130 km/h\u001B[39m\u001B[38;5;124m'\u001B[39m]\n\u001B[0;32m----> 3\u001B[0m unfaelle \u001B[38;5;241m=\u001B[39m [np\u001B[38;5;241m.\u001B[39msum(\u001B[43munfaelle_130\u001B[49m), np\u001B[38;5;241m.\u001B[39msum(unfaelle_uber_130)]\n\u001B[1;32m      4\u001B[0m plt\u001B[38;5;241m.\u001B[39msubplot(\u001B[38;5;241m1\u001B[39m, \u001B[38;5;241m3\u001B[39m, \u001B[38;5;241m1\u001B[39m)\n\u001B[1;32m      5\u001B[0m plt\u001B[38;5;241m.\u001B[39mbar(labels_unfaelle, unfaelle)\n",
      "\u001B[0;31mNameError\u001B[0m: name 'unfaelle_130' is not defined"
     ]
    }
   ],
   "source": [
    "# Diagramm 1: Anzahl der Unfälle\n",
    "labels_unfaelle = ['<= 130 km/h', '> 130 km/h']\n",
    "unfaelle = [np.sum(unfaelle_130), np.sum(unfaelle_uber_130)]\n",
    "plt.subplot(1, 3, 1)\n",
    "plt.bar(labels_unfaelle, unfaelle)\n",
    "plt.title('Anzahl der Unfälle')\n",
    "plt.xlabel('Geschwindigkeit')\n",
    "plt.ylabel('Anzahl')\n",
    "\n",
    "# Diagramm 2: Anzahl der Personenschäden\n",
    "labels_personenschaden = ['<= 130 km/h', '> 130 km/h']\n",
    "personenschaden = [np.sum(personenschaden_130), np.sum(personenschaden_uber_130)]\n",
    "plt.subplot(1, 3, 2)\n",
    "plt.bar(labels_personenschaden, personenschaden)\n",
    "plt.title('Anzahl der Personenschäden')\n",
    "plt.xlabel('Geschwindigkeit')\n",
    "plt.ylabel('Anzahl')\n",
    "\n",
    "# Diagramm 3: Anzahl der tödlichen Unfälle\n",
    "labels_toedliche_unfaelle = ['<= 130 km/h', '> 130 km/h']\n",
    "toedliche_unfaelle = [np.sum(toedliche_unfaelle_130), np.sum(toedliche_unfaelle_uber_130)]\n",
    "plt.subplot(1, 3, 3)\n",
    "plt.bar(labels_toedliche_unfaelle, toedliche_unfaelle)\n",
    "plt.title('Anzahl der tödlichen Unfälle')\n",
    "plt.xlabel('Geschwindigkeit')\n",
    "plt.ylabel('Anzahl')\n",
    "\n",
    "# Diagramme anzeigen\n",
    "plt.tight_layout()\n",
    "plt.show()"
   ]
  },
  {
   "cell_type": "markdown",
   "id": "a44684e6",
   "metadata": {},
   "source": [
    "Die Ergebnisse zeigen, dass die Anzahl der Unfälle und Personenschäden bei Geschwindigkeiten <= 130 km/h deutlich höher ist als bei Geschwindigkeiten > 130 km/h. Dies deutet darauf hin, dass ein Tempolimit von 130 km/h auf der Autobahn sinnvoll sein könnte, um die Anzahl der Unfälle und Personenschäden zu reduzieren.\n",
    "\n",
    "Allerdings ist zu beachten, dass die Daten nur die Unfälle der letzten Jahre berücksichtigen und weitere Faktoren wie Verkehrsdichte, Wetterbedingungen und Fahrzeugzustand berücksichtigt werden müssen, um eine endgültige Aussage über die Sinnhaftigkeit eines Tempolimits zu treffen."
   ]
  },
  {
   "cell_type": "code",
   "execution_count": 17,
   "id": "0dc4dbfb",
   "metadata": {
    "ExecuteTime": {
     "end_time": "2023-06-25T07:29:27.031517303Z",
     "start_time": "2023-06-25T07:29:27.010475312Z"
    }
   },
   "outputs": [],
   "source": []
  },
  {
   "cell_type": "code",
   "execution_count": null,
   "outputs": [],
   "source": [],
   "metadata": {
    "collapsed": false
   }
  }
 ],
 "metadata": {
  "kernelspec": {
   "display_name": "Python 3 (ipykernel)",
   "language": "python",
   "name": "python3"
  },
  "language_info": {
   "codemirror_mode": {
    "name": "ipython",
    "version": 3
   },
   "file_extension": ".py",
   "mimetype": "text/x-python",
   "name": "python",
   "nbconvert_exporter": "python",
   "pygments_lexer": "ipython3",
   "version": "3.10.9"
  }
 },
 "nbformat": 4,
 "nbformat_minor": 5
}
